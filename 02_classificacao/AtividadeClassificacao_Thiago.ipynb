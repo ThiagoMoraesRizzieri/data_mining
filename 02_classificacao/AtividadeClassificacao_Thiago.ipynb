{
  "cells": [
    {
      "cell_type": "markdown",
      "metadata": {},
      "source": [
        "# Classificação de clientes em uma empresa automobilística"
      ]
    },
    {
      "cell_type": "markdown",
      "metadata": {},
      "source": [
        "## Enunciado"
      ]
    },
    {
      "cell_type": "markdown",
      "metadata": {},
      "source": [
        "Selecionar 1 conjunto de dados que contenha ao menos 4 classes. Aplicar sobre o conjunto os seguintes algoritmos: árvore, bagging, boosting (pode ser o AdaBoost), Random Forest. Avaliar quais deles gera o melhor modelo usando para tanto alguma técnica de validação (holdout, etc.). Escolha uma medida para avaliar o desempenho (acurácia, F1, etc.). Considerando o de melhor resultado, faça a setagem de hiperparâmetros no mesmo para ver se o desempenho melhora.\n",
        "\n",
        "Transformar o problema multiclasse em problemas binários usando OVA e OVO. Escolha uma medida para avaliar o desempenho (acurácia, F1, etc.) e diga qual das duas abordagens se saiu melhor usando para tanto alguma técnica de validação (holdout, etc.). Use como algoritmo o de árvore."
      ]
    },
    {
      "cell_type": "markdown",
      "metadata": {},
      "source": [
        "## Sobre os dados"
      ]
    },
    {
      "cell_type": "markdown",
      "metadata": {},
      "source": [
        "Os dados foram extraídos de um dataset compartilhado no Kaggle pelo usuário Kash e obtido pelo Analytics Vidhya hackathon, disponível em https://www.kaggle.com/datasets/kaushiksuresh147/customer-segmentation.\n",
        "\n",
        "O estudo é baseando em um experimento anterior, em que clientes de um mercado existente foram classificados em 4 segmentos distintos de acordo com algumas de suas características. Assim, um atendimento mais direcionado foi proposto para cada segmento, gerando bons resultados.\n",
        "\n",
        "A ideia é repetir o mesmo experimento para novos mercados e novos clientes."
      ]
    },
    {
      "cell_type": "markdown",
      "metadata": {
        "id": "Vca-fH5E2ssY"
      },
      "source": [
        "As variáveis obtidas são:\n",
        "\n",
        "* ID: número de ID.\n",
        "\n",
        "* Gender: gênero do cliente (feminino ou masculino).\n",
        "\n",
        "* Ever_Married: estado civil do cliente (se já se casou ou não).\n",
        "\n",
        "* Age: idade do cliente.\n",
        "\n",
        "* Graduated: se o cliente é graduado ou não.\n",
        "\n",
        "* Profession: profissão do cliente.\n",
        "\n",
        "* Work_Experience: experiência profissional em anos.\n",
        "\n",
        "* Spending_Score: pontuação de gastos no mercado.\n",
        "\n",
        "* Family_Size: tamanho da família.\n",
        "\n",
        "* Var_1: variável categórica mantida em anonimato.\n",
        "\n",
        "* Segmentation: Segmento do cliente (variável-alvo)."
      ]
    },
    {
      "cell_type": "markdown",
      "metadata": {},
      "source": [
        "## Pré-processamento dos dados"
      ]
    },
    {
      "cell_type": "markdown",
      "metadata": {},
      "source": [
        "Pacotes utilizados:"
      ]
    },
    {
      "cell_type": "code",
      "execution_count": 77,
      "metadata": {
        "id": "Pwpp0dU3yBVM"
      },
      "outputs": [],
      "source": [
        "# Para manipulação de dados\n",
        "import pandas as pd \n",
        "\n",
        "# Para fazer encoding de variáveis categóricas\n",
        "from sklearn.preprocessing import LabelEncoder\n",
        "\n",
        "# Modelos de classificação utilizados\n",
        "from sklearn.tree import DecisionTreeClassifier\n",
        "from sklearn.ensemble import BaggingClassifier\n",
        "from sklearn.ensemble import AdaBoostClassifier\n",
        "from sklearn.ensemble import RandomForestClassifier\n",
        "\n",
        "# Para realizar a avaliação via cross validation\n",
        "from sklearn.model_selection import cross_val_score\n",
        "\n",
        "# Estratégias para decomposição em um problema de classe binário\n",
        "from sklearn.multiclass import OneVsRestClassifier\n",
        "from sklearn.multiclass import OneVsOneClassifier\n",
        "\n",
        "# Para fazer uma busca entre hiperparâmetros\n",
        "from sklearn.model_selection import GridSearchCV\n",
        "\n",
        "\n"
      ]
    },
    {
      "cell_type": "markdown",
      "metadata": {},
      "source": [
        "Já são oferecidas duas planilhas de dados, sendo uma para treino e outra para teste. Mas estarei juntando as duas para fazer o pré-processamento em conjunto."
      ]
    },
    {
      "cell_type": "code",
      "execution_count": 78,
      "metadata": {
        "colab": {
          "base_uri": "https://localhost:8080/",
          "height": 444
        },
        "id": "IUfjcNfTxZpp",
        "outputId": "8ae7054f-fc8e-4237-c4a8-392ab7b20a95"
      },
      "outputs": [
        {
          "data": {
            "text/html": [
              "<div>\n",
              "<style scoped>\n",
              "    .dataframe tbody tr th:only-of-type {\n",
              "        vertical-align: middle;\n",
              "    }\n",
              "\n",
              "    .dataframe tbody tr th {\n",
              "        vertical-align: top;\n",
              "    }\n",
              "\n",
              "    .dataframe thead th {\n",
              "        text-align: right;\n",
              "    }\n",
              "</style>\n",
              "<table border=\"1\" class=\"dataframe\">\n",
              "  <thead>\n",
              "    <tr style=\"text-align: right;\">\n",
              "      <th></th>\n",
              "      <th>ID</th>\n",
              "      <th>Gender</th>\n",
              "      <th>Ever_Married</th>\n",
              "      <th>Age</th>\n",
              "      <th>Graduated</th>\n",
              "      <th>Profession</th>\n",
              "      <th>Work_Experience</th>\n",
              "      <th>Spending_Score</th>\n",
              "      <th>Family_Size</th>\n",
              "      <th>Var_1</th>\n",
              "      <th>Segmentation</th>\n",
              "    </tr>\n",
              "  </thead>\n",
              "  <tbody>\n",
              "    <tr>\n",
              "      <th>0</th>\n",
              "      <td>462809</td>\n",
              "      <td>Male</td>\n",
              "      <td>No</td>\n",
              "      <td>22</td>\n",
              "      <td>No</td>\n",
              "      <td>Healthcare</td>\n",
              "      <td>1.0</td>\n",
              "      <td>Low</td>\n",
              "      <td>4.0</td>\n",
              "      <td>Cat_4</td>\n",
              "      <td>D</td>\n",
              "    </tr>\n",
              "    <tr>\n",
              "      <th>1</th>\n",
              "      <td>462643</td>\n",
              "      <td>Female</td>\n",
              "      <td>Yes</td>\n",
              "      <td>38</td>\n",
              "      <td>Yes</td>\n",
              "      <td>Engineer</td>\n",
              "      <td>NaN</td>\n",
              "      <td>Average</td>\n",
              "      <td>3.0</td>\n",
              "      <td>Cat_4</td>\n",
              "      <td>A</td>\n",
              "    </tr>\n",
              "    <tr>\n",
              "      <th>2</th>\n",
              "      <td>466315</td>\n",
              "      <td>Female</td>\n",
              "      <td>Yes</td>\n",
              "      <td>67</td>\n",
              "      <td>Yes</td>\n",
              "      <td>Engineer</td>\n",
              "      <td>1.0</td>\n",
              "      <td>Low</td>\n",
              "      <td>1.0</td>\n",
              "      <td>Cat_6</td>\n",
              "      <td>B</td>\n",
              "    </tr>\n",
              "    <tr>\n",
              "      <th>3</th>\n",
              "      <td>461735</td>\n",
              "      <td>Male</td>\n",
              "      <td>Yes</td>\n",
              "      <td>67</td>\n",
              "      <td>Yes</td>\n",
              "      <td>Lawyer</td>\n",
              "      <td>0.0</td>\n",
              "      <td>High</td>\n",
              "      <td>2.0</td>\n",
              "      <td>Cat_6</td>\n",
              "      <td>B</td>\n",
              "    </tr>\n",
              "    <tr>\n",
              "      <th>4</th>\n",
              "      <td>462669</td>\n",
              "      <td>Female</td>\n",
              "      <td>Yes</td>\n",
              "      <td>40</td>\n",
              "      <td>Yes</td>\n",
              "      <td>Entertainment</td>\n",
              "      <td>NaN</td>\n",
              "      <td>High</td>\n",
              "      <td>6.0</td>\n",
              "      <td>Cat_6</td>\n",
              "      <td>A</td>\n",
              "    </tr>\n",
              "  </tbody>\n",
              "</table>\n",
              "</div>"
            ],
            "text/plain": [
              "       ID  Gender Ever_Married  Age Graduated     Profession  Work_Experience  \\\n",
              "0  462809    Male           No   22        No     Healthcare              1.0   \n",
              "1  462643  Female          Yes   38       Yes       Engineer              NaN   \n",
              "2  466315  Female          Yes   67       Yes       Engineer              1.0   \n",
              "3  461735    Male          Yes   67       Yes         Lawyer              0.0   \n",
              "4  462669  Female          Yes   40       Yes  Entertainment              NaN   \n",
              "\n",
              "  Spending_Score  Family_Size  Var_1 Segmentation  \n",
              "0            Low          4.0  Cat_4            D  \n",
              "1        Average          3.0  Cat_4            A  \n",
              "2            Low          1.0  Cat_6            B  \n",
              "3           High          2.0  Cat_6            B  \n",
              "4           High          6.0  Cat_6            A  "
            ]
          },
          "execution_count": 78,
          "metadata": {},
          "output_type": "execute_result"
        }
      ],
      "source": [
        "# Juntando os dados para fazer limpezas\n",
        "\n",
        "df_treino = pd.read_csv(\"Train.csv\", sep=\",\")\n",
        "df_teste = pd.read_csv(\"Test.csv\", sep=\",\")\n",
        "df = pd.concat([df_treino, df_teste])\n",
        "\n",
        "df.head()"
      ]
    },
    {
      "cell_type": "code",
      "execution_count": 79,
      "metadata": {
        "id": "XUm8A5Z8XDf_"
      },
      "outputs": [
        {
          "name": "stdout",
          "output_type": "stream",
          "text": [
            "<class 'pandas.core.frame.DataFrame'>\n",
            "Int64Index: 10695 entries, 0 to 2626\n",
            "Data columns (total 11 columns):\n",
            " #   Column           Non-Null Count  Dtype  \n",
            "---  ------           --------------  -----  \n",
            " 0   ID               10695 non-null  int64  \n",
            " 1   Gender           10695 non-null  object \n",
            " 2   Ever_Married     10505 non-null  object \n",
            " 3   Age              10695 non-null  int64  \n",
            " 4   Graduated        10593 non-null  object \n",
            " 5   Profession       10533 non-null  object \n",
            " 6   Work_Experience  9597 non-null   float64\n",
            " 7   Spending_Score   10695 non-null  object \n",
            " 8   Family_Size      10247 non-null  float64\n",
            " 9   Var_1            10587 non-null  object \n",
            " 10  Segmentation     10695 non-null  object \n",
            "dtypes: float64(2), int64(2), object(7)\n",
            "memory usage: 1002.7+ KB\n"
          ]
        }
      ],
      "source": [
        "# Checando os tipos de variáveis\n",
        "\n",
        "df.info()"
      ]
    },
    {
      "cell_type": "markdown",
      "metadata": {},
      "source": [
        "### Limpeza de valores ausentes"
      ]
    },
    {
      "cell_type": "code",
      "execution_count": 80,
      "metadata": {
        "colab": {
          "base_uri": "https://localhost:8080/"
        },
        "id": "gQa3dVpKzfKB",
        "outputId": "59c29cf5-98e8-47dc-bc48-67b45d09242f"
      },
      "outputs": [
        {
          "data": {
            "text/plain": [
              "ID                    0\n",
              "Gender                0\n",
              "Ever_Married        190\n",
              "Age                   0\n",
              "Graduated           102\n",
              "Profession          162\n",
              "Work_Experience    1098\n",
              "Spending_Score        0\n",
              "Family_Size         448\n",
              "Var_1               108\n",
              "Segmentation          0\n",
              "dtype: int64"
            ]
          },
          "execution_count": 80,
          "metadata": {},
          "output_type": "execute_result"
        }
      ],
      "source": [
        "# Checando se há valores ausentes\n",
        "\n",
        "df.isna().sum()"
      ]
    },
    {
      "cell_type": "code",
      "execution_count": 81,
      "metadata": {},
      "outputs": [
        {
          "data": {
            "text/plain": [
              "ID                 0\n",
              "Gender             0\n",
              "Ever_Married       0\n",
              "Age                0\n",
              "Graduated          0\n",
              "Profession         0\n",
              "Work_Experience    0\n",
              "Spending_Score     0\n",
              "Family_Size        0\n",
              "Var_1              0\n",
              "Segmentation       0\n",
              "dtype: int64"
            ]
          },
          "execution_count": 81,
          "metadata": {},
          "output_type": "execute_result"
        }
      ],
      "source": [
        "# Faremos uma remoção desses valores\n",
        "\n",
        "df.dropna(inplace=True)\n",
        "df.isna().sum()"
      ]
    },
    {
      "cell_type": "markdown",
      "metadata": {},
      "source": [
        "### Limpeza de valores duplicados"
      ]
    },
    {
      "cell_type": "code",
      "execution_count": 82,
      "metadata": {
        "colab": {
          "base_uri": "https://localhost:8080/"
        },
        "id": "2S_tbkQKzls_",
        "outputId": "eefef1cf-bfde-4dd3-bd04-b0f93661db65"
      },
      "outputs": [
        {
          "data": {
            "text/plain": [
              "26"
            ]
          },
          "execution_count": 82,
          "metadata": {},
          "output_type": "execute_result"
        }
      ],
      "source": [
        "# Verificamos quantos valores duplicados existem\n",
        "\n",
        "df.duplicated().sum()\n"
      ]
    },
    {
      "cell_type": "code",
      "execution_count": 83,
      "metadata": {
        "colab": {
          "base_uri": "https://localhost:8080/"
        },
        "id": "g0a_qYhtTCh5",
        "outputId": "01f9a798-c68a-457d-8411-7080715a8478"
      },
      "outputs": [
        {
          "data": {
            "text/plain": [
              "0"
            ]
          },
          "execution_count": 83,
          "metadata": {},
          "output_type": "execute_result"
        }
      ],
      "source": [
        "# Removendo os valores duplicados\n",
        "\n",
        "df.drop_duplicates(inplace=True)\n",
        "df.duplicated().sum()"
      ]
    },
    {
      "cell_type": "markdown",
      "metadata": {},
      "source": [
        "### Encoding de variáveis categóricas"
      ]
    },
    {
      "cell_type": "markdown",
      "metadata": {},
      "source": [
        "Vamos verificar os valores que cada variável categórica pode assumir para fazer um encoding adequado para cada uma."
      ]
    },
    {
      "cell_type": "code",
      "execution_count": 84,
      "metadata": {},
      "outputs": [
        {
          "name": "stdout",
          "output_type": "stream",
          "text": [
            "['Male' 'Female']\n",
            "['No' 'Yes']\n",
            "['No' 'Yes']\n",
            "['Healthcare' 'Engineer' 'Lawyer' 'Artist' 'Doctor' 'Homemaker'\n",
            " 'Entertainment' 'Marketing' 'Executive']\n",
            "['Low' 'High' 'Average']\n",
            "['Cat_4' 'Cat_6' 'Cat_7' 'Cat_3' 'Cat_1' 'Cat_2' 'Cat_5']\n"
          ]
        }
      ],
      "source": [
        "print(df['Gender'].unique())\n",
        "print(df['Ever_Married'].unique())\n",
        "print(df['Graduated'].unique())\n",
        "print(df['Profession'].unique())\n",
        "print(df['Spending_Score'].unique())\n",
        "print(df['Var_1'].unique())"
      ]
    },
    {
      "cell_type": "markdown",
      "metadata": {},
      "source": [
        "Podemos observar que as variáveis Gender, Ever_Married e Graduated podem ser transformados em variáveis binárias. Além disso, a variável Var_1 pode receber valores em sua ordem alfabética (ou seja, 'Cat_1' será transformado em 0, 'Cat_2' será transformado em 1...).\n",
        "\n",
        "Podemos fazer essas transformações seguindo o comando abaixo:"
      ]
    },
    {
      "cell_type": "code",
      "execution_count": 85,
      "metadata": {
        "colab": {
          "base_uri": "https://localhost:8080/",
          "height": 513
        },
        "id": "95NMQe7VXE-9",
        "outputId": "57040a6b-8f23-499c-e23d-c43eaccb4852"
      },
      "outputs": [
        {
          "data": {
            "text/html": [
              "<div>\n",
              "<style scoped>\n",
              "    .dataframe tbody tr th:only-of-type {\n",
              "        vertical-align: middle;\n",
              "    }\n",
              "\n",
              "    .dataframe tbody tr th {\n",
              "        vertical-align: top;\n",
              "    }\n",
              "\n",
              "    .dataframe thead th {\n",
              "        text-align: right;\n",
              "    }\n",
              "</style>\n",
              "<table border=\"1\" class=\"dataframe\">\n",
              "  <thead>\n",
              "    <tr style=\"text-align: right;\">\n",
              "      <th></th>\n",
              "      <th>ID</th>\n",
              "      <th>Gender</th>\n",
              "      <th>Ever_Married</th>\n",
              "      <th>Age</th>\n",
              "      <th>Graduated</th>\n",
              "      <th>Profession</th>\n",
              "      <th>Work_Experience</th>\n",
              "      <th>Spending_Score</th>\n",
              "      <th>Family_Size</th>\n",
              "      <th>Var_1</th>\n",
              "      <th>Segmentation</th>\n",
              "    </tr>\n",
              "  </thead>\n",
              "  <tbody>\n",
              "    <tr>\n",
              "      <th>0</th>\n",
              "      <td>462809</td>\n",
              "      <td>1</td>\n",
              "      <td>0</td>\n",
              "      <td>22</td>\n",
              "      <td>0</td>\n",
              "      <td>Healthcare</td>\n",
              "      <td>1.0</td>\n",
              "      <td>Low</td>\n",
              "      <td>4.0</td>\n",
              "      <td>3</td>\n",
              "      <td>D</td>\n",
              "    </tr>\n",
              "    <tr>\n",
              "      <th>2</th>\n",
              "      <td>466315</td>\n",
              "      <td>0</td>\n",
              "      <td>1</td>\n",
              "      <td>67</td>\n",
              "      <td>1</td>\n",
              "      <td>Engineer</td>\n",
              "      <td>1.0</td>\n",
              "      <td>Low</td>\n",
              "      <td>1.0</td>\n",
              "      <td>5</td>\n",
              "      <td>B</td>\n",
              "    </tr>\n",
              "    <tr>\n",
              "      <th>3</th>\n",
              "      <td>461735</td>\n",
              "      <td>1</td>\n",
              "      <td>1</td>\n",
              "      <td>67</td>\n",
              "      <td>1</td>\n",
              "      <td>Lawyer</td>\n",
              "      <td>0.0</td>\n",
              "      <td>High</td>\n",
              "      <td>2.0</td>\n",
              "      <td>5</td>\n",
              "      <td>B</td>\n",
              "    </tr>\n",
              "    <tr>\n",
              "      <th>5</th>\n",
              "      <td>461319</td>\n",
              "      <td>1</td>\n",
              "      <td>1</td>\n",
              "      <td>56</td>\n",
              "      <td>0</td>\n",
              "      <td>Artist</td>\n",
              "      <td>0.0</td>\n",
              "      <td>Average</td>\n",
              "      <td>2.0</td>\n",
              "      <td>5</td>\n",
              "      <td>C</td>\n",
              "    </tr>\n",
              "    <tr>\n",
              "      <th>6</th>\n",
              "      <td>460156</td>\n",
              "      <td>1</td>\n",
              "      <td>0</td>\n",
              "      <td>32</td>\n",
              "      <td>1</td>\n",
              "      <td>Healthcare</td>\n",
              "      <td>1.0</td>\n",
              "      <td>Low</td>\n",
              "      <td>3.0</td>\n",
              "      <td>5</td>\n",
              "      <td>C</td>\n",
              "    </tr>\n",
              "  </tbody>\n",
              "</table>\n",
              "</div>"
            ],
            "text/plain": [
              "       ID  Gender  Ever_Married  Age  Graduated  Profession  Work_Experience  \\\n",
              "0  462809       1             0   22          0  Healthcare              1.0   \n",
              "2  466315       0             1   67          1    Engineer              1.0   \n",
              "3  461735       1             1   67          1      Lawyer              0.0   \n",
              "5  461319       1             1   56          0      Artist              0.0   \n",
              "6  460156       1             0   32          1  Healthcare              1.0   \n",
              "\n",
              "  Spending_Score  Family_Size  Var_1 Segmentation  \n",
              "0            Low          4.0      3            D  \n",
              "2            Low          1.0      5            B  \n",
              "3           High          2.0      5            B  \n",
              "5        Average          2.0      5            C  \n",
              "6            Low          3.0      5            C  "
            ]
          },
          "execution_count": 85,
          "metadata": {},
          "output_type": "execute_result"
        }
      ],
      "source": [
        "# Encoding nas variáveis categóricas em ordem alfabética\n",
        "\n",
        "label_encoders = {}\n",
        "categorical_columns = ['Gender', 'Ever_Married', 'Graduated', 'Var_1']\n",
        "for column in categorical_columns:\n",
        "    le = LabelEncoder()\n",
        "    df[column] = le.fit_transform(df[column])\n",
        "    label_encoders[column] = le\n",
        "\n",
        "df.head()"
      ]
    },
    {
      "cell_type": "markdown",
      "metadata": {},
      "source": [
        "Para a variável Spending_Score fazemos um encoding seguindo a ordem de suas variáveis."
      ]
    },
    {
      "cell_type": "code",
      "execution_count": 86,
      "metadata": {},
      "outputs": [
        {
          "data": {
            "text/html": [
              "<div>\n",
              "<style scoped>\n",
              "    .dataframe tbody tr th:only-of-type {\n",
              "        vertical-align: middle;\n",
              "    }\n",
              "\n",
              "    .dataframe tbody tr th {\n",
              "        vertical-align: top;\n",
              "    }\n",
              "\n",
              "    .dataframe thead th {\n",
              "        text-align: right;\n",
              "    }\n",
              "</style>\n",
              "<table border=\"1\" class=\"dataframe\">\n",
              "  <thead>\n",
              "    <tr style=\"text-align: right;\">\n",
              "      <th></th>\n",
              "      <th>ID</th>\n",
              "      <th>Gender</th>\n",
              "      <th>Ever_Married</th>\n",
              "      <th>Age</th>\n",
              "      <th>Graduated</th>\n",
              "      <th>Profession</th>\n",
              "      <th>Work_Experience</th>\n",
              "      <th>Spending_Score</th>\n",
              "      <th>Family_Size</th>\n",
              "      <th>Var_1</th>\n",
              "      <th>Segmentation</th>\n",
              "    </tr>\n",
              "  </thead>\n",
              "  <tbody>\n",
              "    <tr>\n",
              "      <th>0</th>\n",
              "      <td>462809</td>\n",
              "      <td>1</td>\n",
              "      <td>0</td>\n",
              "      <td>22</td>\n",
              "      <td>0</td>\n",
              "      <td>Healthcare</td>\n",
              "      <td>1.0</td>\n",
              "      <td>0</td>\n",
              "      <td>4.0</td>\n",
              "      <td>3</td>\n",
              "      <td>D</td>\n",
              "    </tr>\n",
              "    <tr>\n",
              "      <th>2</th>\n",
              "      <td>466315</td>\n",
              "      <td>0</td>\n",
              "      <td>1</td>\n",
              "      <td>67</td>\n",
              "      <td>1</td>\n",
              "      <td>Engineer</td>\n",
              "      <td>1.0</td>\n",
              "      <td>0</td>\n",
              "      <td>1.0</td>\n",
              "      <td>5</td>\n",
              "      <td>B</td>\n",
              "    </tr>\n",
              "    <tr>\n",
              "      <th>3</th>\n",
              "      <td>461735</td>\n",
              "      <td>1</td>\n",
              "      <td>1</td>\n",
              "      <td>67</td>\n",
              "      <td>1</td>\n",
              "      <td>Lawyer</td>\n",
              "      <td>0.0</td>\n",
              "      <td>2</td>\n",
              "      <td>2.0</td>\n",
              "      <td>5</td>\n",
              "      <td>B</td>\n",
              "    </tr>\n",
              "    <tr>\n",
              "      <th>5</th>\n",
              "      <td>461319</td>\n",
              "      <td>1</td>\n",
              "      <td>1</td>\n",
              "      <td>56</td>\n",
              "      <td>0</td>\n",
              "      <td>Artist</td>\n",
              "      <td>0.0</td>\n",
              "      <td>1</td>\n",
              "      <td>2.0</td>\n",
              "      <td>5</td>\n",
              "      <td>C</td>\n",
              "    </tr>\n",
              "    <tr>\n",
              "      <th>6</th>\n",
              "      <td>460156</td>\n",
              "      <td>1</td>\n",
              "      <td>0</td>\n",
              "      <td>32</td>\n",
              "      <td>1</td>\n",
              "      <td>Healthcare</td>\n",
              "      <td>1.0</td>\n",
              "      <td>0</td>\n",
              "      <td>3.0</td>\n",
              "      <td>5</td>\n",
              "      <td>C</td>\n",
              "    </tr>\n",
              "  </tbody>\n",
              "</table>\n",
              "</div>"
            ],
            "text/plain": [
              "       ID  Gender  Ever_Married  Age  Graduated  Profession  Work_Experience  \\\n",
              "0  462809       1             0   22          0  Healthcare              1.0   \n",
              "2  466315       0             1   67          1    Engineer              1.0   \n",
              "3  461735       1             1   67          1      Lawyer              0.0   \n",
              "5  461319       1             1   56          0      Artist              0.0   \n",
              "6  460156       1             0   32          1  Healthcare              1.0   \n",
              "\n",
              "   Spending_Score  Family_Size  Var_1 Segmentation  \n",
              "0               0          4.0      3            D  \n",
              "2               0          1.0      5            B  \n",
              "3               2          2.0      5            B  \n",
              "5               1          2.0      5            C  \n",
              "6               0          3.0      5            C  "
            ]
          },
          "execution_count": 86,
          "metadata": {},
          "output_type": "execute_result"
        }
      ],
      "source": [
        "mapeamento = {'Low': 0, 'Average': 1, 'High': 2}\n",
        "\n",
        "# Aplicar o mapeamento usando a função map()\n",
        "df['Spending_Score'] = df['Spending_Score'].map(mapeamento)\n",
        "\n",
        "df.head()"
      ]
    },
    {
      "cell_type": "markdown",
      "metadata": {},
      "source": [
        "Por fim, como a variável categórica Profession não é ordinal e possui diversos valores, acredito que a abordagem mais adequada seja opção seja aplicar o One-Hot encoding nesta variável."
      ]
    },
    {
      "cell_type": "code",
      "execution_count": 87,
      "metadata": {},
      "outputs": [
        {
          "data": {
            "text/html": [
              "<div>\n",
              "<style scoped>\n",
              "    .dataframe tbody tr th:only-of-type {\n",
              "        vertical-align: middle;\n",
              "    }\n",
              "\n",
              "    .dataframe tbody tr th {\n",
              "        vertical-align: top;\n",
              "    }\n",
              "\n",
              "    .dataframe thead th {\n",
              "        text-align: right;\n",
              "    }\n",
              "</style>\n",
              "<table border=\"1\" class=\"dataframe\">\n",
              "  <thead>\n",
              "    <tr style=\"text-align: right;\">\n",
              "      <th></th>\n",
              "      <th>ID</th>\n",
              "      <th>Gender</th>\n",
              "      <th>Ever_Married</th>\n",
              "      <th>Age</th>\n",
              "      <th>Graduated</th>\n",
              "      <th>Work_Experience</th>\n",
              "      <th>Spending_Score</th>\n",
              "      <th>Family_Size</th>\n",
              "      <th>Var_1</th>\n",
              "      <th>Segmentation</th>\n",
              "      <th>Profession_Artist</th>\n",
              "      <th>Profession_Doctor</th>\n",
              "      <th>Profession_Engineer</th>\n",
              "      <th>Profession_Entertainment</th>\n",
              "      <th>Profession_Executive</th>\n",
              "      <th>Profession_Healthcare</th>\n",
              "      <th>Profession_Homemaker</th>\n",
              "      <th>Profession_Lawyer</th>\n",
              "      <th>Profession_Marketing</th>\n",
              "    </tr>\n",
              "  </thead>\n",
              "  <tbody>\n",
              "    <tr>\n",
              "      <th>0</th>\n",
              "      <td>462809</td>\n",
              "      <td>1</td>\n",
              "      <td>0</td>\n",
              "      <td>22</td>\n",
              "      <td>0</td>\n",
              "      <td>1.0</td>\n",
              "      <td>0</td>\n",
              "      <td>4.0</td>\n",
              "      <td>3</td>\n",
              "      <td>D</td>\n",
              "      <td>0</td>\n",
              "      <td>0</td>\n",
              "      <td>0</td>\n",
              "      <td>0</td>\n",
              "      <td>0</td>\n",
              "      <td>1</td>\n",
              "      <td>0</td>\n",
              "      <td>0</td>\n",
              "      <td>0</td>\n",
              "    </tr>\n",
              "    <tr>\n",
              "      <th>2</th>\n",
              "      <td>466315</td>\n",
              "      <td>0</td>\n",
              "      <td>1</td>\n",
              "      <td>67</td>\n",
              "      <td>1</td>\n",
              "      <td>1.0</td>\n",
              "      <td>0</td>\n",
              "      <td>1.0</td>\n",
              "      <td>5</td>\n",
              "      <td>B</td>\n",
              "      <td>0</td>\n",
              "      <td>0</td>\n",
              "      <td>1</td>\n",
              "      <td>0</td>\n",
              "      <td>0</td>\n",
              "      <td>0</td>\n",
              "      <td>0</td>\n",
              "      <td>0</td>\n",
              "      <td>0</td>\n",
              "    </tr>\n",
              "    <tr>\n",
              "      <th>3</th>\n",
              "      <td>461735</td>\n",
              "      <td>1</td>\n",
              "      <td>1</td>\n",
              "      <td>67</td>\n",
              "      <td>1</td>\n",
              "      <td>0.0</td>\n",
              "      <td>2</td>\n",
              "      <td>2.0</td>\n",
              "      <td>5</td>\n",
              "      <td>B</td>\n",
              "      <td>0</td>\n",
              "      <td>0</td>\n",
              "      <td>0</td>\n",
              "      <td>0</td>\n",
              "      <td>0</td>\n",
              "      <td>0</td>\n",
              "      <td>0</td>\n",
              "      <td>1</td>\n",
              "      <td>0</td>\n",
              "    </tr>\n",
              "    <tr>\n",
              "      <th>5</th>\n",
              "      <td>461319</td>\n",
              "      <td>1</td>\n",
              "      <td>1</td>\n",
              "      <td>56</td>\n",
              "      <td>0</td>\n",
              "      <td>0.0</td>\n",
              "      <td>1</td>\n",
              "      <td>2.0</td>\n",
              "      <td>5</td>\n",
              "      <td>C</td>\n",
              "      <td>1</td>\n",
              "      <td>0</td>\n",
              "      <td>0</td>\n",
              "      <td>0</td>\n",
              "      <td>0</td>\n",
              "      <td>0</td>\n",
              "      <td>0</td>\n",
              "      <td>0</td>\n",
              "      <td>0</td>\n",
              "    </tr>\n",
              "    <tr>\n",
              "      <th>6</th>\n",
              "      <td>460156</td>\n",
              "      <td>1</td>\n",
              "      <td>0</td>\n",
              "      <td>32</td>\n",
              "      <td>1</td>\n",
              "      <td>1.0</td>\n",
              "      <td>0</td>\n",
              "      <td>3.0</td>\n",
              "      <td>5</td>\n",
              "      <td>C</td>\n",
              "      <td>0</td>\n",
              "      <td>0</td>\n",
              "      <td>0</td>\n",
              "      <td>0</td>\n",
              "      <td>0</td>\n",
              "      <td>1</td>\n",
              "      <td>0</td>\n",
              "      <td>0</td>\n",
              "      <td>0</td>\n",
              "    </tr>\n",
              "  </tbody>\n",
              "</table>\n",
              "</div>"
            ],
            "text/plain": [
              "       ID  Gender  Ever_Married  Age  Graduated  Work_Experience  \\\n",
              "0  462809       1             0   22          0              1.0   \n",
              "2  466315       0             1   67          1              1.0   \n",
              "3  461735       1             1   67          1              0.0   \n",
              "5  461319       1             1   56          0              0.0   \n",
              "6  460156       1             0   32          1              1.0   \n",
              "\n",
              "   Spending_Score  Family_Size  Var_1 Segmentation  Profession_Artist  \\\n",
              "0               0          4.0      3            D                  0   \n",
              "2               0          1.0      5            B                  0   \n",
              "3               2          2.0      5            B                  0   \n",
              "5               1          2.0      5            C                  1   \n",
              "6               0          3.0      5            C                  0   \n",
              "\n",
              "   Profession_Doctor  Profession_Engineer  Profession_Entertainment  \\\n",
              "0                  0                    0                         0   \n",
              "2                  0                    1                         0   \n",
              "3                  0                    0                         0   \n",
              "5                  0                    0                         0   \n",
              "6                  0                    0                         0   \n",
              "\n",
              "   Profession_Executive  Profession_Healthcare  Profession_Homemaker  \\\n",
              "0                     0                      1                     0   \n",
              "2                     0                      0                     0   \n",
              "3                     0                      0                     0   \n",
              "5                     0                      0                     0   \n",
              "6                     0                      1                     0   \n",
              "\n",
              "   Profession_Lawyer  Profession_Marketing  \n",
              "0                  0                     0  \n",
              "2                  0                     0  \n",
              "3                  1                     0  \n",
              "5                  0                     0  \n",
              "6                  0                     0  "
            ]
          },
          "execution_count": 87,
          "metadata": {},
          "output_type": "execute_result"
        }
      ],
      "source": [
        "df = pd.get_dummies(df, columns=['Profession'])\n",
        "df.head()\n"
      ]
    },
    {
      "cell_type": "markdown",
      "metadata": {},
      "source": [
        "Por fim, fazemos a separação das variáveis de entrada e a variável de saída. Não estarei realizando uma extração de atributos, pois como cada modelo estará utilizando um algoritmo que parte de árvores de decisão, o próprio modelo estará selecionando as variáveis mais relevantes."
      ]
    },
    {
      "cell_type": "code",
      "execution_count": 88,
      "metadata": {},
      "outputs": [],
      "source": [
        "# Separando as variáveis explicativas e a variável alvo\n",
        "\n",
        "X = df.drop(['ID', 'Segmentation'], axis=1)\n",
        "y = df['Segmentation']"
      ]
    },
    {
      "cell_type": "markdown",
      "metadata": {},
      "source": [
        "## Exercício 1: Aplicando os modelos num problema multiclasse"
      ]
    },
    {
      "cell_type": "markdown",
      "metadata": {},
      "source": [
        "Como estratégia de divisão do modelo em dados de treino e teste para sua avaliação, estarei utilizando a validação cruzada com k=5 folds."
      ]
    },
    {
      "cell_type": "markdown",
      "metadata": {},
      "source": [
        "E como métrica, usarei o F1-score ponderado, pois leva em consideração dois scores que tratam a proporção de verdadeiros positivos de formas diferentes (a precisão e o recall) em uma média harmônica. Além disso, é considerado um score útil quando a quantidade de classes da previsão é diferente. Podemos verificar que há quantidades diferentes de fato."
      ]
    },
    {
      "cell_type": "code",
      "execution_count": 105,
      "metadata": {},
      "outputs": [
        {
          "data": {
            "text/plain": [
              "D    2378\n",
              "A    2304\n",
              "C    2095\n",
              "B    2016\n",
              "Name: Segmentation, dtype: int64"
            ]
          },
          "execution_count": 105,
          "metadata": {},
          "output_type": "execute_result"
        }
      ],
      "source": [
        "y.value_counts()"
      ]
    },
    {
      "cell_type": "markdown",
      "metadata": {},
      "source": [
        "Criando os modelos de classificação de árvore, baggind, AdaBoost e RandomForest:"
      ]
    },
    {
      "cell_type": "code",
      "execution_count": 99,
      "metadata": {},
      "outputs": [
        {
          "name": "stdout",
          "output_type": "stream",
          "text": [
            "0.3739506804895071\n"
          ]
        }
      ],
      "source": [
        "# Criando o modelo de árvore de decisão\n",
        "tree = DecisionTreeClassifier()\n",
        "scores = cross_val_score(tree, X, y, scoring='f1_weighted').mean()\n",
        "print(scores)"
      ]
    },
    {
      "cell_type": "code",
      "execution_count": 98,
      "metadata": {},
      "outputs": [
        {
          "name": "stdout",
          "output_type": "stream",
          "text": [
            "0.40235473116220133\n"
          ]
        }
      ],
      "source": [
        "# Criando o modelo bagging\n",
        "bagging = BaggingClassifier(DecisionTreeClassifier())\n",
        "scores = cross_val_score(bagging, X, y, cv=5, scoring='f1_weighted').mean()\n",
        "print(scores)"
      ]
    },
    {
      "cell_type": "code",
      "execution_count": 100,
      "metadata": {},
      "outputs": [
        {
          "name": "stdout",
          "output_type": "stream",
          "text": [
            "0.45358375913633003\n"
          ]
        }
      ],
      "source": [
        "# Criando o modelo AdaBoost\n",
        "adaboost = AdaBoostClassifier()\n",
        "scores = cross_val_score(adaboost, X, y, cv=5, scoring='f1_weighted').mean()\n",
        "print(scores)"
      ]
    },
    {
      "cell_type": "code",
      "execution_count": 101,
      "metadata": {},
      "outputs": [
        {
          "name": "stdout",
          "output_type": "stream",
          "text": [
            "0.41216263142323817\n"
          ]
        }
      ],
      "source": [
        "# Criando o modelo RandomForest\n",
        "rforest = RandomForestClassifier()\n",
        "scores = cross_val_score(rforest, X, y, cv=5, scoring='f1_weighted').mean()\n",
        "print(scores)"
      ]
    },
    {
      "cell_type": "markdown",
      "metadata": {},
      "source": [
        "Dentre os modelos apresentados, o que teve melhor desempenho foi o AdaBoosting. Veremos como podemos melhorar seus hiperparâmetros:"
      ]
    },
    {
      "cell_type": "code",
      "execution_count": 103,
      "metadata": {},
      "outputs": [
        {
          "name": "stdout",
          "output_type": "stream",
          "text": [
            "Melhores hiperparâmetros: {'learning_rate': 0.1, 'n_estimators': 150}\n"
          ]
        }
      ],
      "source": [
        "param_grid = {\n",
        "    'n_estimators': [50, 100, 150, 200, 250, 300],\n",
        "    'learning_rate': [0.01, 0.05, 0.1, 0.2, 0.5, 1.0]\n",
        "}\n",
        "\n",
        "# Realize a pesquisa em grade\n",
        "grid_search = GridSearchCV(adaboost, param_grid, cv=5)\n",
        "grid_search.fit(X, y)\n",
        "\n",
        "# Exiba os melhores hiperparâmetros encontrados\n",
        "best_params = grid_search.best_params_\n",
        "print(\"Melhores hiperparâmetros:\", best_params)"
      ]
    },
    {
      "cell_type": "markdown",
      "metadata": {},
      "source": [
        "Em seguida, aplicamos os hiperparâmetros obtidos no modelo:"
      ]
    },
    {
      "cell_type": "code",
      "execution_count": 104,
      "metadata": {},
      "outputs": [
        {
          "name": "stdout",
          "output_type": "stream",
          "text": [
            "0.4569590551256429\n"
          ]
        }
      ],
      "source": [
        "adaboost = AdaBoostClassifier(n_estimators=150,learning_rate=0.1)\n",
        "scores = cross_val_score(adaboost, X, y, cv=5, scoring='f1_weighted').mean()\n",
        "print(scores)"
      ]
    },
    {
      "cell_type": "markdown",
      "metadata": {},
      "source": [
        "## Exercício 2: Decompondo o problema em classificação binária"
      ]
    },
    {
      "cell_type": "markdown",
      "metadata": {},
      "source": [
        "Vamos decompor o problema multiclasse em um problema de classificação binária por dois métodos diferentes, OVA (one-versus-all) e OVO (one-versus-one). Em ambos os casos, usaremos apenas o modelo de árvore de decisão e iremos realizar uma avaliação de cada um seguindo o mesmo procedimento de antes."
      ]
    },
    {
      "cell_type": "code",
      "execution_count": 114,
      "metadata": {},
      "outputs": [
        {
          "name": "stdout",
          "output_type": "stream",
          "text": [
            "0.36664719909504895\n"
          ]
        }
      ],
      "source": [
        "# Pelo OVA\n",
        "OVA = OneVsRestClassifier(DecisionTreeClassifier())\n",
        "scores = cross_val_score(OVA, X, y, cv=5).mean()\n",
        "print(scores)\n"
      ]
    },
    {
      "cell_type": "code",
      "execution_count": 115,
      "metadata": {},
      "outputs": [
        {
          "name": "stdout",
          "output_type": "stream",
          "text": [
            "0.3638048042862289\n"
          ]
        }
      ],
      "source": [
        "# Pelo OVO\n",
        "OVO = OneVsOneClassifier(DecisionTreeClassifier())\n",
        "scores = cross_val_score(OVA, X, y, cv=5).mean()\n",
        "print(scores)"
      ]
    },
    {
      "cell_type": "markdown",
      "metadata": {},
      "source": [
        "Podemos observar que neste caso de estudo, ambas as metodologias apresentam praticamente o mesmo desempenho."
      ]
    }
  ],
  "metadata": {
    "colab": {
      "provenance": []
    },
    "kernelspec": {
      "display_name": "Python 3",
      "name": "python3"
    },
    "language_info": {
      "codemirror_mode": {
        "name": "ipython",
        "version": 3
      },
      "file_extension": ".py",
      "mimetype": "text/x-python",
      "name": "python",
      "nbconvert_exporter": "python",
      "pygments_lexer": "ipython3",
      "version": "3.9.12"
    }
  },
  "nbformat": 4,
  "nbformat_minor": 0
}
